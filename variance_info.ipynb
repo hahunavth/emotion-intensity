{
 "cells": [
  {
   "cell_type": "code",
   "execution_count": 2,
   "metadata": {},
   "outputs": [],
   "source": [
    "import os\n",
    "import pickle as pk\n",
    "import numpy as np\n"
   ]
  },
  {
   "cell_type": "code",
   "execution_count": 57,
   "metadata": {},
   "outputs": [],
   "source": [
    "def get_feat_dist(path=\"/kaggle/repo/emotion_intensity/datasets/esd_processed/pitch/\"):\n",
    "    ps = []\n",
    "    files = os.listdir(path)\n",
    "    for f in files:\n",
    "        data = pk.load(open(path + f, \"rb\"))\n",
    "        ps.extend(data)\n",
    "\n",
    "    mean_all = np.array(ps).mean(axis=0)\n",
    "    std_all = np.array(ps).std(axis=0)\n",
    "    min_all = np.array(ps).min(axis=0)\n",
    "    max_all = np.array(ps).max(axis=0)\n",
    "\n",
    "    return mean_all, std_all, min_all, max_all"
   ]
  },
  {
   "cell_type": "code",
   "execution_count": 58,
   "metadata": {},
   "outputs": [],
   "source": [
    "p_mean, p_std, p_min, p_max = get_feat_dist(\"/kaggle/repo/emotion_intensity/datasets/esd_processed/pitch/\")\n",
    "e_mean, e_std, e_min, e_max = get_feat_dist(\"/kaggle/repo/emotion_intensity/datasets/esd_processed/energy/\")"
   ]
  },
  {
   "cell_type": "code",
   "execution_count": 59,
   "metadata": {},
   "outputs": [
    {
     "data": {
      "text/plain": [
       "{'energy': {'mean': 12.463655471801758,\n",
       "  'std': 18.852081298828125,\n",
       "  'min': 0.005087381694465876,\n",
       "  'max': 303.2631530761719},\n",
       " 'pitch': {'mean': 117.61787241209638,\n",
       "  'std': 127.3936679824174,\n",
       "  'min': 0.0,\n",
       "  'max': 894.1158624974564}}"
      ]
     },
     "execution_count": 59,
     "metadata": {},
     "output_type": "execute_result"
    }
   ],
   "source": [
    "info = {\n",
    "    \"energy\": {\n",
    "        \"mean\": e_mean.item(),\n",
    "        \"std\": e_std.item(),\n",
    "        \"min\": e_min.item(),\n",
    "        \"max\": e_max.item(),\n",
    "    },\n",
    "    \"pitch\": {\n",
    "        \"mean\": p_mean.item(),\n",
    "        \"std\": p_std.item(),\n",
    "        \"min\": p_min.item(),\n",
    "        \"max\": p_max.item(),\n",
    "    }\n",
    "}\n",
    "info"
   ]
  },
  {
   "cell_type": "code",
   "execution_count": 60,
   "metadata": {},
   "outputs": [],
   "source": [
    "# save to file json\n",
    "import json\n",
    "\n",
    "with open(\"./datasets/esd_processed/stats.json\", \"w\") as f:\n",
    "    f.write(json.dumps(info, indent=4))\n",
    "    f.close()\n"
   ]
  }
 ],
 "metadata": {
  "kernelspec": {
   "display_name": "py310",
   "language": "python",
   "name": "python3"
  },
  "language_info": {
   "codemirror_mode": {
    "name": "ipython",
    "version": 3
   },
   "file_extension": ".py",
   "mimetype": "text/x-python",
   "name": "python",
   "nbconvert_exporter": "python",
   "pygments_lexer": "ipython3",
   "version": "3.10.13"
  }
 },
 "nbformat": 4,
 "nbformat_minor": 2
}
